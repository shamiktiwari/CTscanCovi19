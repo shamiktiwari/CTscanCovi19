{
  "nbformat": 4,
  "nbformat_minor": 0,
  "metadata": {
    "colab": {
      "name": "PEM",
      "provenance": [],
      "authorship_tag": "ABX9TyO03ZiDoom/pcyH82Avwc5v",
      "include_colab_link": true
    },
    "kernelspec": {
      "name": "python3",
      "display_name": "Python 3"
    },
    "language_info": {
      "name": "python"
    }
  },
  "cells": [
    {
      "cell_type": "markdown",
      "metadata": {
        "id": "view-in-github",
        "colab_type": "text"
      },
      "source": [
        "<a href=\"https://colab.research.google.com/github/shamiktiwari/CTscanCovi19/blob/master/PEM.ipynb\" target=\"_parent\"><img src=\"https://colab.research.google.com/assets/colab-badge.svg\" alt=\"Open In Colab\"/></a>"
      ]
    },
    {
      "cell_type": "code",
      "execution_count": 2,
      "metadata": {
        "colab": {
          "base_uri": "https://localhost:8080/"
        },
        "id": "VVJwrfmXHoXH",
        "outputId": "4454e63d-f858-4855-bb00-f28d47179955"
      },
      "outputs": [
        {
          "output_type": "stream",
          "name": "stdout",
          "text": [
            "[[1 1 0]\n",
            " [0 1 0]\n",
            " [2 0 0]]\n",
            "              precision    recall  f1-score   support\n",
            "\n",
            "           a       0.33      0.50      0.40         2\n",
            "           b       0.50      1.00      0.67         1\n",
            "           c       0.00      0.00      0.00         2\n",
            "\n",
            "    accuracy                           0.40         5\n",
            "   macro avg       0.28      0.50      0.36         5\n",
            "weighted avg       0.23      0.40      0.29         5\n",
            "\n"
          ]
        },
        {
          "output_type": "stream",
          "name": "stderr",
          "text": [
            "/usr/local/lib/python3.7/dist-packages/sklearn/metrics/_classification.py:1318: UndefinedMetricWarning: Precision and F-score are ill-defined and being set to 0.0 in labels with no predicted samples. Use `zero_division` parameter to control this behavior.\n",
            "  _warn_prf(average, modifier, msg_start, len(result))\n",
            "/usr/local/lib/python3.7/dist-packages/sklearn/metrics/_classification.py:1318: UndefinedMetricWarning: Precision and F-score are ill-defined and being set to 0.0 in labels with no predicted samples. Use `zero_division` parameter to control this behavior.\n",
            "  _warn_prf(average, modifier, msg_start, len(result))\n",
            "/usr/local/lib/python3.7/dist-packages/sklearn/metrics/_classification.py:1318: UndefinedMetricWarning: Precision and F-score are ill-defined and being set to 0.0 in labels with no predicted samples. Use `zero_division` parameter to control this behavior.\n",
            "  _warn_prf(average, modifier, msg_start, len(result))\n"
          ]
        }
      ],
      "source": [
        "# Importing the dependancies\n",
        "from sklearn import metrics\n",
        "# Actual values\n",
        "y_act = [\"a\", \"b\", \"c\", \"c\", \"a\"]\n",
        "# Predicted values\n",
        "y_pred = [\"a\", \"b\", \"a\", \"a\", \"b\"]\n",
        "\n",
        "# Printing the confusion matrix\n",
        "# The columns will show the instances predicted for each label,\n",
        "# and the rows will show the actual number of instances for each label.\n",
        "print(metrics.confusion_matrix(y_act, y_pred, labels=[\"a\", \"b\", \"c\"]))\n",
        "# Printing the precision and recall, among other metrics\n",
        "print(metrics.classification_report(y_act, y_pred, labels=[\"a\",\"b\",\"c\"]))"
      ]
    }
  ]
}