{
  "nbformat": 4,
  "nbformat_minor": 0,
  "metadata": {
    "colab": {
      "name": "StatLab.ipynb",
      "provenance": [],
      "authorship_tag": "ABX9TyMv6+xJelR6CUhtrYXdHITz",
      "include_colab_link": true
    },
    "kernelspec": {
      "name": "python3",
      "display_name": "Python 3"
    },
    "language_info": {
      "name": "python"
    }
  },
  "cells": [
    {
      "cell_type": "markdown",
      "metadata": {
        "id": "view-in-github",
        "colab_type": "text"
      },
      "source": [
        "<a href=\"https://colab.research.google.com/github/shamiktiwari/CTscanCovi19/blob/master/StatLab.ipynb\" target=\"_parent\"><img src=\"https://colab.research.google.com/assets/colab-badge.svg\" alt=\"Open In Colab\"/></a>"
      ]
    },
    {
      "cell_type": "code",
      "metadata": {
        "colab": {
          "base_uri": "https://localhost:8080/"
        },
        "id": "hwZ2Sw0TO96J",
        "outputId": "ca00c3b1-4460-4269-c534-926398372423"
      },
      "source": [
        "import random\n",
        "\n",
        "print(\"Generating 3 random integer number between 100 and 999 divisible by 5\")\n",
        "for num in range(3):\n",
        "    print(random.randrange(100, 999, 5), end=', ')"
      ],
      "execution_count": 1,
      "outputs": [
        {
          "output_type": "stream",
          "name": "stdout",
          "text": [
            "Generating 3 random integer number between 100 and 999 divisible by 5\n",
            "895, 805, 325, "
          ]
        }
      ]
    }
  ]
}